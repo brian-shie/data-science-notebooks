{
 "cells": [
  {
   "cell_type": "markdown",
   "metadata": {},
   "source": [
    "# Introduction\n",
    "- Statistical learning is a set of tools that helps us understand data.\n",
    "    - Supervised: Predict or classify an outputs using inputs.\n",
    "        - eg. Using years of study to predict wages.\n",
    "    - Unsupervised: Learn more about the data, using without having outputs.\n",
    "        - eg. Discovering clusters within the data.\n",
    "\n",
    "- Statistical learning is important because with more and more data, it's uses are now beyond the academia."
   ]
  },
  {
   "cell_type": "markdown",
   "metadata": {},
   "source": [
    "# Statistical Learning"
   ]
  },
  {
   "cell_type": "code",
   "execution_count": null,
   "metadata": {},
   "outputs": [],
   "source": []
  }
 ],
 "metadata": {
  "kernelspec": {
   "display_name": "ml",
   "language": "python",
   "name": "ml"
  },
  "language_info": {
   "codemirror_mode": {
    "name": "ipython",
    "version": 3
   },
   "file_extension": ".py",
   "mimetype": "text/x-python",
   "name": "python",
   "nbconvert_exporter": "python",
   "pygments_lexer": "ipython3",
   "version": "3.7.9"
  }
 },
 "nbformat": 4,
 "nbformat_minor": 4
}
