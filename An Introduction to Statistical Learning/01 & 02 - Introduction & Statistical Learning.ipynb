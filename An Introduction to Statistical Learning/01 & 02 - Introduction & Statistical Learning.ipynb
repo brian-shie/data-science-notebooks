{
 "cells": [
  {
   "cell_type": "markdown",
   "metadata": {},
   "source": [
    "# Chapters 1 & 2\n",
    "\n",
    "## 1 - Introduction\n",
    "- Statistical learning is a set of tools that helps us understand data.\n",
    "    - Supervised: Predict or classify an outputs using inputs.\n",
    "        - eg. Using years of study to predict wages.\n",
    "    - Unsupervised: Learn more about the data, using without having outputs.\n",
    "        - eg. Discovering clusters within the data.\n",
    "\n",
    "- Statistical learning is important because with more and more data, it's uses are now beyond the academia."
   ]
  },
  {
   "cell_type": "markdown",
   "metadata": {},
   "source": [
    "## 2 - Statistical Learning\n",
    "\n",
    "### What is Statistical Learning\n",
    "Suppose we have our variable of interest $y$ and a set of features $X$. Statistical learning are tools that helps us to estimate the populational (and sometimes purely theorical) function $y = f(x) + \\varepsilon$.\n",
    "\n",
    "As it's not possible to discover the **real** function $f$, we estimate the function with $\\hat{y} = \\hat{f}(x)$.\n",
    "\n",
    "### Why estimate $f$?\n",
    "- Prediction;\n",
    "- Inference;\n",
    "\n",
    "#### Prediction\n",
    "When we have our features set and want to predict the future values of the response variable. In this case a tradeoff will likely always occur: model interpretability and prediction power.\n",
    "\n",
    "When our estimated $\\hat{f}$ is complex and it's not feasible to understand, we have what it's called a *black box*. In this case the only objective is to maximize the prediction power.\n",
    "\n",
    "- When dealing with prediction, even with a theoretical perfect estimate of $f = \\hat{f}$, there will always be some error called _irreductible error_. This error comes from the population function $f$, and per definition, is not a function o the features set $X$.\n",
    "\n",
    "#### Inference \n"
   ]
  },
  {
   "cell_type": "code",
   "execution_count": null,
   "metadata": {},
   "outputs": [],
   "source": []
  }
 ],
 "metadata": {
  "kernelspec": {
   "display_name": "ml",
   "language": "python",
   "name": "ml"
  },
  "language_info": {
   "codemirror_mode": {
    "name": "ipython",
    "version": 3
   },
   "file_extension": ".py",
   "mimetype": "text/x-python",
   "name": "python",
   "nbconvert_exporter": "python",
   "pygments_lexer": "ipython3",
   "version": "3.7.9"
  }
 },
 "nbformat": 4,
 "nbformat_minor": 4
}
